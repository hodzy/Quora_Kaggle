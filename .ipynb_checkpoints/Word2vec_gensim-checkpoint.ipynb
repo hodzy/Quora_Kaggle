{
 "cells": [
  {
   "cell_type": "code",
   "execution_count": null,
   "metadata": {},
   "outputs": [],
   "source": [
    "# needed libraries: gensim & pyhton-Levenshtein"
   ]
  },
  {
   "cell_type": "code",
   "execution_count": 1,
   "metadata": {},
   "outputs": [],
   "source": [
    "import pandas as pd\n",
    "import numpy as np\n",
    "import gensim\n",
    "import string"
   ]
  },
  {
   "cell_type": "code",
   "execution_count": 2,
   "metadata": {},
   "outputs": [],
   "source": [
    "df = pd.read_csv('train.csv')\n",
    "# print(df)\n",
    "# print(type(df))"
   ]
  },
  {
   "cell_type": "code",
   "execution_count": 3,
   "metadata": {},
   "outputs": [],
   "source": [
    "data = df[\"question1\"].values.tolist()\n",
    "data.extend(df[\"question2\"].values.tolist())\n",
    "\n",
    "# print(len(data))\n",
    "# print(data[0])"
   ]
  },
  {
   "cell_type": "code",
   "execution_count": 4,
   "metadata": {},
   "outputs": [],
   "source": [
    "# preprocessing the data (tokenizing and removing punctutation)\n",
    "new_data = [gensim.utils.simple_preprocess(str(sentence)) for sentence in data] "
   ]
  },
  {
   "cell_type": "code",
   "execution_count": 5,
   "metadata": {},
   "outputs": [
    {
     "name": "stdout",
     "output_type": "stream",
     "text": [
      "808580\n",
      "['what', 'is', 'the', 'step', 'by', 'step', 'guide', 'to', 'invest', 'in', 'share', 'market', 'in', 'india']\n",
      "['what', 'is', 'the', 'story', 'of', 'kohinoor', 'koh', 'noor', 'diamond']\n",
      "['how', 'can', 'increase', 'the', 'speed', 'of', 'my', 'internet', 'connection', 'while', 'using', 'vpn']\n",
      "['why', 'am', 'mentally', 'very', 'lonely', 'how', 'can', 'solve', 'it']\n",
      "['which', 'one', 'dissolve', 'in', 'water', 'quikly', 'sugar', 'salt', 'methane', 'and', 'carbon', 'di', 'oxide']\n"
     ]
    }
   ],
   "source": [
    "print(len(new_data))\n",
    "for item in new_data[:5]:\n",
    "    print(item)"
   ]
  },
  {
   "cell_type": "code",
   "execution_count": 58,
   "metadata": {},
   "outputs": [],
   "source": [
    "# default vector_size is 100\n",
    "# model = gensim.models.Word2Vec(window=5, min_count=3, workers = 12)\n",
    "model = gensim.models.Word2Vec(window=5, vector_size=300, min_count=3, workers = 12)"
   ]
  },
  {
   "cell_type": "code",
   "execution_count": 59,
   "metadata": {},
   "outputs": [],
   "source": [
    "model.build_vocab(new_data, progress_per= 1000)"
   ]
  },
  {
   "cell_type": "code",
   "execution_count": 60,
   "metadata": {},
   "outputs": [
    {
     "data": {
      "text/plain": [
       "5"
      ]
     },
     "execution_count": 60,
     "metadata": {},
     "output_type": "execute_result"
    }
   ],
   "source": [
    "model.epochs"
   ]
  },
  {
   "cell_type": "code",
   "execution_count": 61,
   "metadata": {},
   "outputs": [
    {
     "data": {
      "text/plain": [
       "808580"
      ]
     },
     "execution_count": 61,
     "metadata": {},
     "output_type": "execute_result"
    }
   ],
   "source": [
    "model.corpus_count"
   ]
  },
  {
   "cell_type": "code",
   "execution_count": 62,
   "metadata": {},
   "outputs": [
    {
     "data": {
      "text/plain": [
       "(30229918, 42083380)"
      ]
     },
     "execution_count": 62,
     "metadata": {},
     "output_type": "execute_result"
    }
   ],
   "source": [
    "model.train(new_data, total_examples= model.corpus_count, epochs=model.epochs)"
   ]
  },
  {
   "cell_type": "code",
   "execution_count": 65,
   "metadata": {},
   "outputs": [],
   "source": [
    "# model.save(\"word2vec_model_one_gesim.model\")\n",
    "model.save(\"word2vec_model_one_gensim_vector_300.model\")"
   ]
  },
  {
   "cell_type": "code",
   "execution_count": 66,
   "metadata": {},
   "outputs": [
    {
     "data": {
      "text/plain": [
       "[('buy', 0.5727464556694031),\n",
       " ('spend', 0.5600773692131042),\n",
       " ('fund', 0.5548077821731567),\n",
       " ('investment', 0.539548933506012),\n",
       " ('investing', 0.5365277528762817),\n",
       " ('visit', 0.5246422290802002),\n",
       " ('sell', 0.5177748799324036),\n",
       " ('raise', 0.5135489702224731),\n",
       " ('stocks', 0.509687066078186),\n",
       " ('mutual', 0.50406414270401)]"
      ]
     },
     "execution_count": 66,
     "metadata": {},
     "output_type": "execute_result"
    }
   ],
   "source": [
    "model.wv.most_similar(\"invest\")"
   ]
  },
  {
   "cell_type": "code",
   "execution_count": 133,
   "metadata": {},
   "outputs": [],
   "source": [
    "# print(model.wv[\"invest\"].astype(\"float16\") - model.wv[\"what\"].astype(\"float16\"))\n",
    "# print(model.wv[\"invest\"].astype(\"float16\") - model.wv[\"what\"].astype(\"float16\"))\n",
    "\n",
    "\n",
    "# print(model.wv[\"invest\"] - model.wv[\"buy\"])\n",
    "# print(model.wv[\"invest\"] - model.wv[\"what\"])"
   ]
  },
  {
   "cell_type": "code",
   "execution_count": 134,
   "metadata": {},
   "outputs": [
    {
     "data": {
      "text/plain": [
       "numpy.ndarray"
      ]
     },
     "execution_count": 134,
     "metadata": {},
     "output_type": "execute_result"
    }
   ],
   "source": [
    "type(model.wv[\"what\"])\n",
    "# model.wv.get_vector(\"what\")\n",
    "# model.wv[\"what\"]"
   ]
  },
  {
   "cell_type": "code",
   "execution_count": 135,
   "metadata": {},
   "outputs": [],
   "source": [
    "# print(model.wv[\"invest\"].astype(\"float16\"), \"\\n\")\n",
    "# print(model.wv[\"buy\"].astype(\"float16\"))"
   ]
  },
  {
   "cell_type": "code",
   "execution_count": 131,
   "metadata": {},
   "outputs": [],
   "source": []
  },
  {
   "cell_type": "code",
   "execution_count": null,
   "metadata": {},
   "outputs": [],
   "source": []
  }
 ],
 "metadata": {
  "kernelspec": {
   "display_name": "Python 3",
   "language": "python",
   "name": "python3"
  },
  "language_info": {
   "codemirror_mode": {
    "name": "ipython",
    "version": 3
   },
   "file_extension": ".py",
   "mimetype": "text/x-python",
   "name": "python",
   "nbconvert_exporter": "python",
   "pygments_lexer": "ipython3",
   "version": "3.7.6"
  }
 },
 "nbformat": 4,
 "nbformat_minor": 4
}
