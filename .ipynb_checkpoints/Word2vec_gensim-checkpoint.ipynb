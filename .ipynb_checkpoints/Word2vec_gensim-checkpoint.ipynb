{
 "cells": [
  {
   "cell_type": "code",
   "execution_count": null,
   "metadata": {},
   "outputs": [],
   "source": [
    "# needed libraries: gensim & pyhton-Levenshtein"
   ]
  },
  {
   "cell_type": "code",
   "execution_count": 15,
   "metadata": {},
   "outputs": [],
   "source": [
    "import pandas as pd\n",
    "import numpy as np\n",
    "import gensim\n",
    "import string"
   ]
  },
  {
   "cell_type": "code",
   "execution_count": 16,
   "metadata": {},
   "outputs": [],
   "source": [
    "df = pd.read_csv('train.csv')\n",
    "# print(df.head(5))"
   ]
  },
  {
   "cell_type": "code",
   "execution_count": 20,
   "metadata": {},
   "outputs": [
    {
     "name": "stdout",
     "output_type": "stream",
     "text": [
      "0         What is the step by step guide to invest in sh...\n",
      "1         What would happen if the Indian government sto...\n",
      "2         How can Internet speed be increased by hacking...\n",
      "3         Find the remainder when [math]23^{24}[/math] i...\n",
      "4                   Which fish would survive in salt water?\n",
      "                                ...                        \n",
      "404285    How many keywords are there in PERL Programmin...\n",
      "404286           Is it true that there is life after death?\n",
      "404287                                    What's this coin?\n",
      "404288    I am having little hairfall problem but I want...\n",
      "404289        What is it like to have sex with your cousin?\n",
      "Name: question2, Length: 404290, dtype: object\n"
     ]
    }
   ],
   "source": [
    "question1_data = df[\"question1\"]\n",
    "# print(question1_data)\n",
    "question2_data = df[\"question2\"]\n",
    "print(question2_data)\n",
    "frames = [question1_data ,question2_data]"
   ]
  },
  {
   "cell_type": "code",
   "execution_count": 18,
   "metadata": {},
   "outputs": [],
   "source": [
    "result = pd.concat(frames)\n",
    "# print(result)"
   ]
  },
  {
   "cell_type": "code",
   "execution_count": 19,
   "metadata": {},
   "outputs": [
    {
     "data": {
      "text/plain": [
       "(808580,)"
      ]
     },
     "execution_count": 19,
     "metadata": {},
     "output_type": "execute_result"
    }
   ],
   "source": [
    "result.shape"
   ]
  },
  {
   "cell_type": "raw",
   "metadata": {},
   "source": [
    "gensim.utils.simple_preprocess(result)"
   ]
  },
  {
   "cell_type": "code",
   "execution_count": null,
   "metadata": {},
   "outputs": [],
   "source": []
  }
 ],
 "metadata": {
  "kernelspec": {
   "display_name": "Python 3",
   "language": "python",
   "name": "python3"
  },
  "language_info": {
   "codemirror_mode": {
    "name": "ipython",
    "version": 3
   },
   "file_extension": ".py",
   "mimetype": "text/x-python",
   "name": "python",
   "nbconvert_exporter": "python",
   "pygments_lexer": "ipython3",
   "version": "3.7.6"
  }
 },
 "nbformat": 4,
 "nbformat_minor": 4
}
